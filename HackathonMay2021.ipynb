{
 "cells": [
  {
   "cell_type": "code",
   "execution_count": 2,
   "metadata": {},
   "outputs": [],
   "source": [
    "import numpy as np\n",
    "import pandas as pd\n",
    "import matplotlib.pyplot as plt\n",
    "from tqdm import tqdm\n",
    "import xgboost as xgb"
   ]
  },
  {
   "cell_type": "code",
   "execution_count": 3,
   "metadata": {},
   "outputs": [],
   "source": [
    "from sklearn.model_selection import train_test_split, StratifiedKFold, LeaveOneOut\n",
    "from sklearn import metrics"
   ]
  },
  {
   "cell_type": "code",
   "execution_count": null,
   "metadata": {},
   "outputs": [],
   "source": []
  },
  {
   "cell_type": "code",
   "execution_count": 4,
   "metadata": {},
   "outputs": [
    {
     "name": "stderr",
     "output_type": "stream",
     "text": [
      "/opt/anaconda3/lib/python3.8/site-packages/IPython/core/interactiveshell.py:3146: DtypeWarning: Columns (5,6,7,8,9,10) have mixed types.Specify dtype option on import or set low_memory=False.\n",
      "  has_raised = await self.run_ast_nodes(code_ast.body, cell_name,\n"
     ]
    }
   ],
   "source": [
    "data = pd.read_csv('Train_updated.csv')\n",
    "data_test = pd.read_csv('Test.csv')"
   ]
  },
  {
   "cell_type": "code",
   "execution_count": 5,
   "metadata": {},
   "outputs": [],
   "source": [
    "data['class'] = 0\n",
    "data.loc[(data['caseLevelResultCode'] == 'PARTIAL_RESULT'), 'class'] = 1\n",
    "data.loc[(data['caseLevelResultCode'] == 'HIGH_PROB_POSITIVE_RESULT'), 'class'] = 2"
   ]
  },
  {
   "cell_type": "code",
   "execution_count": null,
   "metadata": {},
   "outputs": [],
   "source": []
  },
  {
   "cell_type": "markdown",
   "metadata": {},
   "source": [
    "## Evaluate classifier"
   ]
  },
  {
   "cell_type": "code",
   "execution_count": 7,
   "metadata": {},
   "outputs": [],
   "source": [
    "data_train = data[['maternalAge', 'maternalWeight', 'gestationalAge', 'fetalFraction', 'class']]"
   ]
  },
  {
   "cell_type": "code",
   "execution_count": 8,
   "metadata": {},
   "outputs": [
    {
     "name": "stderr",
     "output_type": "stream",
     "text": [
      "0it [00:00, ?it/s]/opt/anaconda3/lib/python3.8/site-packages/xgboost/sklearn.py:888: UserWarning: The use of label encoder in XGBClassifier is deprecated and will be removed in a future release. To remove this warning, do the following: 1) Pass option use_label_encoder=False when constructing XGBClassifier object; and 2) Encode your labels (y) as integers starting with 0, i.e. 0, 1, 2, ..., [num_class - 1].\n",
      "  warnings.warn(label_encoder_deprecation_msg, UserWarning)\n"
     ]
    },
    {
     "name": "stdout",
     "output_type": "stream",
     "text": [
      "[09:46:08] WARNING: /opt/concourse/worker/volumes/live/7a2b9f41-3287-451b-6691-43e9a6c0910f/volume/xgboost-split_1619728204606/work/src/learner.cc:1061: Starting in XGBoost 1.3.0, the default evaluation metric used with the objective 'multi:softprob' was changed from 'merror' to 'mlogloss'. Explicitly set eval_metric if you'd like to restore the old behavior.\n"
     ]
    },
    {
     "name": "stderr",
     "output_type": "stream",
     "text": [
      "1it [02:59, 179.93s/it]"
     ]
    },
    {
     "name": "stdout",
     "output_type": "stream",
     "text": [
      "[09:49:08] WARNING: /opt/concourse/worker/volumes/live/7a2b9f41-3287-451b-6691-43e9a6c0910f/volume/xgboost-split_1619728204606/work/src/learner.cc:1061: Starting in XGBoost 1.3.0, the default evaluation metric used with the objective 'multi:softprob' was changed from 'merror' to 'mlogloss'. Explicitly set eval_metric if you'd like to restore the old behavior.\n"
     ]
    },
    {
     "name": "stderr",
     "output_type": "stream",
     "text": [
      "2it [05:51, 177.54s/it]"
     ]
    },
    {
     "name": "stdout",
     "output_type": "stream",
     "text": [
      "[09:52:00] WARNING: /opt/concourse/worker/volumes/live/7a2b9f41-3287-451b-6691-43e9a6c0910f/volume/xgboost-split_1619728204606/work/src/learner.cc:1061: Starting in XGBoost 1.3.0, the default evaluation metric used with the objective 'multi:softprob' was changed from 'merror' to 'mlogloss'. Explicitly set eval_metric if you'd like to restore the old behavior.\n"
     ]
    },
    {
     "name": "stderr",
     "output_type": "stream",
     "text": [
      "3it [08:48, 177.31s/it]"
     ]
    },
    {
     "name": "stdout",
     "output_type": "stream",
     "text": [
      "[09:54:57] WARNING: /opt/concourse/worker/volumes/live/7a2b9f41-3287-451b-6691-43e9a6c0910f/volume/xgboost-split_1619728204606/work/src/learner.cc:1061: Starting in XGBoost 1.3.0, the default evaluation metric used with the objective 'multi:softprob' was changed from 'merror' to 'mlogloss'. Explicitly set eval_metric if you'd like to restore the old behavior.\n"
     ]
    },
    {
     "name": "stderr",
     "output_type": "stream",
     "text": [
      "4it [11:55, 180.21s/it]"
     ]
    },
    {
     "name": "stdout",
     "output_type": "stream",
     "text": [
      "[09:58:04] WARNING: /opt/concourse/worker/volumes/live/7a2b9f41-3287-451b-6691-43e9a6c0910f/volume/xgboost-split_1619728204606/work/src/learner.cc:1061: Starting in XGBoost 1.3.0, the default evaluation metric used with the objective 'multi:softprob' was changed from 'merror' to 'mlogloss'. Explicitly set eval_metric if you'd like to restore the old behavior.\n"
     ]
    },
    {
     "name": "stderr",
     "output_type": "stream",
     "text": [
      "5it [14:58, 179.78s/it]\n"
     ]
    }
   ],
   "source": [
    "x = data_train[['maternalAge', 'maternalWeight', 'gestationalAge', 'fetalFraction']].values\n",
    "y = data_train['class'].values\n",
    "\n",
    "x_weights = np.ones(len(x))\n",
    "x_weights[y == 0] = len(y[y==2])/len(y[y==0])\n",
    "x_weights[y == 1] = len(y[y==2])/len(y[y==1])\n",
    "\n",
    "y_preds = []\n",
    "y_tests = []\n",
    "kf = StratifiedKFold(n_splits=5, shuffle=True)\n",
    "kf.get_n_splits(x,y)\n",
    "for train_idx, test_idx in tqdm(kf.split(x,y)):\n",
    "    x_train = x[train_idx]\n",
    "    xw_train = x_weights[train_idx]\n",
    "    y_train = y[train_idx]\n",
    "    x_test = x[test_idx]\n",
    "    y_test = y[test_idx]\n",
    "    \n",
    "    model = xgb.XGBClassifier(n_estimators=1000, learning_rate=1.0, max_depth=3, n_jobs=3).fit(x_train, y_train, sample_weight=xw_train)\n",
    "    y_tests.extend(y_test)\n",
    "    y_preds.extend(model.predict_proba(x_test))\n",
    "\n",
    "y_tests_cls = np.array(y_tests).astype(float)\n",
    "y_preds_cls = np.array(y_preds)"
   ]
  },
  {
   "cell_type": "code",
   "execution_count": 9,
   "metadata": {},
   "outputs": [
    {
     "name": "stdout",
     "output_type": "stream",
     "text": [
      "Accuracy: 0.9937123767943375, C.E. Loss: 0.031875524177893626\n",
      "Confusion Matrix:\n",
      "[[595467    163    656]\n",
      " [    69   1151   1251]\n",
      " [   152   1511   4260]]\n",
      "Sensitivity (partial): 0.4658033184945366\n",
      "Sensitivity (positive): 0.7192301198716866\n"
     ]
    },
    {
     "data": {
      "image/png": "[encoded data removed]",
      "text/plain": [
       "<Figure size 432x288 with 1 Axes>"
      ]
     },
     "metadata": {
      "needs_background": "light"
     },
     "output_type": "display_data"
    },
    {
     "data": {
      "image/png": "[encoded data removed]",
      "text/plain": [
       "<Figure size 432x288 with 1 Axes>"
      ]
     },
     "metadata": {
      "needs_background": "light"
     },
     "output_type": "display_data"
    },
    {
     "data": {
      "image/png": "[encoded data removed]",
      "text/plain": [
       "<Figure size 432x288 with 1 Axes>"
      ]
     },
     "metadata": {
      "needs_background": "light"
     },
     "output_type": "display_data"
    }
   ],
   "source": [
    "celoss_cls = metrics.log_loss(y_tests_cls, y_preds_cls)\n",
    "accuracy_cls = metrics.accuracy_score(y_tests_cls, y_preds_cls.argmax(axis=1))\n",
    "print('Accuracy: '+str(accuracy_cls)+', C.E. Loss: '+str(celoss_cls))\n",
    "cm = metrics.confusion_matrix(y_tests_cls, y_preds_cls.argmax(axis=1))\n",
    "print('Confusion Matrix:')\n",
    "print(cm)\n",
    "print('Sensitivity (partial): '+str(cm[1][1]/sum(cm[1])))\n",
    "print('Sensitivity (positive): '+str(cm[2][2]/sum(cm[2])))\n",
    "\n",
    "plt.figure()\n",
    "\n",
    "plt.hist(y_preds_cls.T[0][y_tests_cls == 0], bins=np.arange(0,1,0.05), density=True, histtype='step', label='cls = 0');\n",
    "plt.hist(y_preds_cls.T[0][y_tests_cls == 1], bins=np.arange(0,1,0.05), density=True, histtype='step', label='cls = 1');\n",
    "plt.hist(y_preds_cls.T[0][y_tests_cls == 2], bins=np.arange(0,1,0.05), density=True, histtype='step', label='cls = 2');\n",
    "\n",
    "plt.legend(loc='upper right');\n",
    "\n",
    "plt.figure()\n",
    "\n",
    "plt.hist(y_preds_cls.T[1][y_tests_cls == 0], bins=np.arange(0,1,0.05), density=True, histtype='step', label='cls = 0');\n",
    "plt.hist(y_preds_cls.T[1][y_tests_cls == 1], bins=np.arange(0,1,0.05), density=True, histtype='step', label='cls = 1');\n",
    "plt.hist(y_preds_cls.T[1][y_tests_cls == 2], bins=np.arange(0,1,0.05), density=True, histtype='step', label='cls = 2');\n",
    "\n",
    "plt.legend(loc='upper right');\n",
    "\n",
    "plt.figure()\n",
    "\n",
    "plt.hist(y_preds_cls.T[2][y_tests_cls == 0], bins=np.arange(0,1,0.05), density=True, histtype='step', label='cls = 0');\n",
    "plt.hist(y_preds_cls.T[2][y_tests_cls == 1], bins=np.arange(0,1,0.05), density=True, histtype='step', label='cls = 1');\n",
    "plt.hist(y_preds_cls.T[2][y_tests_cls == 2], bins=np.arange(0,1,0.05), density=True, histtype='step', label='cls = 2');\n",
    "\n",
    "plt.legend(loc='upper right');"
   ]
  },
  {
   "cell_type": "code",
   "execution_count": null,
   "metadata": {},
   "outputs": [],
   "source": []
  },
  {
   "cell_type": "markdown",
   "metadata": {},
   "source": [
    "## Make submission"
   ]
  },
  {
   "cell_type": "code",
   "execution_count": 11,
   "metadata": {},
   "outputs": [
    {
     "name": "stderr",
     "output_type": "stream",
     "text": [
      "/opt/anaconda3/lib/python3.8/site-packages/xgboost/sklearn.py:888: UserWarning: The use of label encoder in XGBClassifier is deprecated and will be removed in a future release. To remove this warning, do the following: 1) Pass option use_label_encoder=False when constructing XGBClassifier object; and 2) Encode your labels (y) as integers starting with 0, i.e. 0, 1, 2, ..., [num_class - 1].\n",
      "  warnings.warn(label_encoder_deprecation_msg, UserWarning)\n"
     ]
    },
    {
     "name": "stdout",
     "output_type": "stream",
     "text": [
      "[10:11:57] WARNING: /opt/concourse/worker/volumes/live/7a2b9f41-3287-451b-6691-43e9a6c0910f/volume/xgboost-split_1619728204606/work/src/learner.cc:1061: Starting in XGBoost 1.3.0, the default evaluation metric used with the objective 'multi:softprob' was changed from 'merror' to 'mlogloss'. Explicitly set eval_metric if you'd like to restore the old behavior.\n"
     ]
    }
   ],
   "source": [
    "x = data_train[['maternalAge', 'maternalWeight', 'gestationalAge', 'fetalFraction']].values\n",
    "y = data_train['class'].values\n",
    "\n",
    "x_weights = np.ones(len(x))\n",
    "x_weights[y == 0] = len(y[y==2])/len(y[y==0])\n",
    "x_weights[y == 1] = len(y[y==2])/len(y[y==1])\n",
    "\n",
    "model = xgb.XGBClassifier(n_estimators=1000, learning_rate=1.0, max_depth=3, n_jobs=3).fit(x, y, sample_weight=x_weights)\n",
    "\n",
    "x_test = data_test[['maternalAge', 'maternalWeight', 'gestationalAge', 'fetalFraction']].values\n",
    "y_tst_preds = model.predict_proba(x_test)"
   ]
  },
  {
   "cell_type": "code",
   "execution_count": 97,
   "metadata": {},
   "outputs": [
    {
     "name": "stderr",
     "output_type": "stream",
     "text": [
      "<ipython-input-97-d77a94ec31b2>:2: SettingWithCopyWarning: \n",
      "A value is trying to be set on a copy of a slice from a DataFrame.\n",
      "Try using .loc[row_indexer,col_indexer] = value instead\n",
      "\n",
      "See the caveats in the documentation: https://pandas.pydata.org/pandas-docs/stable/user_guide/indexing.html#returning-a-view-versus-a-copy\n",
      "  submission['Negative'] = y_tst_preds.T[0]\n",
      "<ipython-input-97-d77a94ec31b2>:3: SettingWithCopyWarning: \n",
      "A value is trying to be set on a copy of a slice from a DataFrame.\n",
      "Try using .loc[row_indexer,col_indexer] = value instead\n",
      "\n",
      "See the caveats in the documentation: https://pandas.pydata.org/pandas-docs/stable/user_guide/indexing.html#returning-a-view-versus-a-copy\n",
      "  submission['Partial'] = y_tst_preds.T[1]\n",
      "<ipython-input-97-d77a94ec31b2>:4: SettingWithCopyWarning: \n",
      "A value is trying to be set on a copy of a slice from a DataFrame.\n",
      "Try using .loc[row_indexer,col_indexer] = value instead\n",
      "\n",
      "See the caveats in the documentation: https://pandas.pydata.org/pandas-docs/stable/user_guide/indexing.html#returning-a-view-versus-a-copy\n",
      "  submission['Positive'] = y_tst_preds.T[2]\n"
     ]
    }
   ],
   "source": [
    "submission = data_test[['RecordID']]\n",
    "submission['Negative'] = y_tst_preds.T[0]\n",
    "submission['Partial'] = y_tst_preds.T[1]\n",
    "submission['Positive'] = y_tst_preds.T[2]"
   ]
  },
  {
   "cell_type": "code",
   "execution_count": 115,
   "metadata": {},
   "outputs": [],
   "source": [
    "submission.to_csv('Abhijeet_Kate_Yuhang_Submission-2.csv')"
   ]
  }
 ],
 "metadata": {
  "kernelspec": {
   "display_name": "Python 3",
   "language": "python",
   "name": "python3"
  },
  "language_info": {
   "codemirror_mode": {
    "name": "ipython",
    "version": 3
   },
   "file_extension": ".py",
   "mimetype": "text/x-python",
   "name": "python",
   "nbconvert_exporter": "python",
   "pygments_lexer": "ipython3",
   "version": "3.8.5"
  }
 },
 "nbformat": 4,
 "nbformat_minor": 4
}
